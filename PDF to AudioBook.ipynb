{
 "cells": [
  {
   "cell_type": "code",
   "execution_count": null,
   "metadata": {},
   "outputs": [],
   "source": [
    "import pdfplumber"
   ]
  },
  {
   "cell_type": "code",
   "execution_count": null,
   "metadata": {},
   "outputs": [],
   "source": [
    "import PyPDF2   \n",
    "pdfFileObj = open('Lewis Thomas - The Lives of a Cell _ Notes of a Biology Watcher-Penguin Books (1982).pdf', 'rb')    \n",
    "pdfReader = PyPDF2.PdfFileReader(pdfFileObj)  \n",
    "print(pdfReader.numPages)  \n",
    "  \n",
    "pdfFileObj.close()"
   ]
  },
  {
   "cell_type": "code",
   "execution_count": null,
   "metadata": {},
   "outputs": [],
   "source": [
    "a = pdfReader.numPages "
   ]
  },
  {
   "cell_type": "code",
   "execution_count": null,
   "metadata": {},
   "outputs": [],
   "source": [
    "#read via pdf plumber\n",
    "text = \"\"\n",
    "i = 1\n",
    "while i < a:\n",
    "    with pdfplumber.open(r'Lewis Thomas - The Lives of a Cell _ Notes of a Biology Watcher-Penguin Books (1982).pdf') as pdf:\n",
    "    #for n in int(pdfReader.numPages):\n",
    "        #print(i)  \n",
    "        first_page = pdf.pages[i]\n",
    "        first_page.extract_text()\n",
    "        #print(first_page.extract_text())\n",
    "        abc = first_page.extract_text()\n",
    "        if abc != None :\n",
    "            text += abc\n",
    "        i += 1"
   ]
  },
  {
   "cell_type": "code",
   "execution_count": null,
   "metadata": {},
   "outputs": [],
   "source": [
    "lines = (line.strip() for line in text.splitlines())\n",
    "\n",
    "# break multi-headlines into a line each\n",
    "chunks = (phrase.strip() for line in lines for phrase in line.split(\"  \"))\n",
    "# drop blank lines \n",
    "text = ' '.join(chunk for chunk in chunks if chunk)"
   ]
  },
  {
   "cell_type": "code",
   "execution_count": null,
   "metadata": {},
   "outputs": [],
   "source": [
    "# print(text)"
   ]
  },
  {
   "cell_type": "code",
   "execution_count": null,
   "metadata": {},
   "outputs": [],
   "source": [
    "with open(\"test.txt\",'w',encoding = 'utf-8') as f:\n",
    "    f.write(text)"
   ]
  },
  {
   "cell_type": "code",
   "execution_count": null,
   "metadata": {},
   "outputs": [],
   "source": [
    "from gtts import gTTS \n",
    "with open('test.txt',\"r\",encoding = 'utf-8') as file:\n",
    "    file = file.read\n",
    "    \n",
    "speak = gTTS(file,lang='en') \n",
    "speak.save(\"audio.mp3\") \n"
   ]
  }
 ],
 "metadata": {
  "kernelspec": {
   "display_name": "Python 3",
   "language": "python",
   "name": "python3"
  },
  "language_info": {
   "codemirror_mode": {
    "name": "ipython",
    "version": 3
   },
   "file_extension": ".py",
   "mimetype": "text/x-python",
   "name": "python",
   "nbconvert_exporter": "python",
   "pygments_lexer": "ipython3",
   "version": "3.7.6"
  }
 },
 "nbformat": 4,
 "nbformat_minor": 4
}
