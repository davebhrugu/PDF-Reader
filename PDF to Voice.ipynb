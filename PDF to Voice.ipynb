{
 "cells": [
  {
   "cell_type": "code",
   "execution_count": 1,
   "metadata": {},
   "outputs": [],
   "source": [
    "import pdfplumber"
   ]
  },
  {
   "cell_type": "code",
   "execution_count": 2,
   "metadata": {},
   "outputs": [
    {
     "name": "stdout",
     "output_type": "stream",
     "text": [
      "164\n"
     ]
    }
   ],
   "source": [
    "import PyPDF2   \n",
    "pdfFileObj = open('ENTER THE FILE WITH PATH', 'rb')    \n",
    "pdfReader = PyPDF2.PdfFileReader(pdfFileObj)  \n",
    "print(pdfReader.numPages)  \n",
    "  \n",
    "pdfFileObj.close()"
   ]
  },
  {
   "cell_type": "code",
   "execution_count": 3,
   "metadata": {},
   "outputs": [],
   "source": [
    "a = pdfReader.numPages "
   ]
  },
  {
   "cell_type": "code",
   "execution_count": 4,
   "metadata": {},
   "outputs": [],
   "source": [
    "#read via pdf plumber\n",
    "text = \"\"\n",
    "i = 1\n",
    "while i < a:\n",
    "    with pdfplumber.open(r'ENTER THE FILE WITH PATH') as pdf:\n",
    "    #for n in int(pdfReader.numPages):\n",
    "        #print(i)  \n",
    "        first_page = pdf.pages[i]\n",
    "        first_page.extract_text()\n",
    "        #print(first_page.extract_text())\n",
    "        abc = first_page.extract_text()\n",
    "        if abc != None :\n",
    "            text += abc\n",
    "        i += 1"
   ]
  },
  {
   "cell_type": "code",
   "execution_count": 5,
   "metadata": {},
   "outputs": [],
   "source": [
    "lines = (line.strip() for line in text.splitlines())\n",
    "\n",
    "# break multi-headlines into a line each\n",
    "chunks = (phrase.strip() for line in lines for phrase in line.split(\"  \"))\n",
    "# drop blank lines \n",
    "text = ' '.join(chunk for chunk in chunks if chunk)"
   ]
  },
  {
   "cell_type": "code",
   "execution_count": 11,
   "metadata": {},
   "outputs": [],
   "source": [
    "#To preview the text contents\n",
    "#print(text)"
   ]
  },
  {
   "cell_type": "code",
   "execution_count": 7,
   "metadata": {},
   "outputs": [],
   "source": [
    "with open(\"test.txt\",'w',encoding = 'utf-8') as f:\n",
    "    f.write(text)"
   ]
  }
 ],
 "metadata": {
  "kernelspec": {
   "display_name": "Python 3",
   "language": "python",
   "name": "python3"
  },
  "language_info": {
   "codemirror_mode": {
    "name": "ipython",
    "version": 3
   },
   "file_extension": ".py",
   "mimetype": "text/x-python",
   "name": "python",
   "nbconvert_exporter": "python",
   "pygments_lexer": "ipython3",
   "version": "3.7.6"
  }
 },
 "nbformat": 4,
 "nbformat_minor": 4
}
